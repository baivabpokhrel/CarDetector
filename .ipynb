{
 "cells": [
  {
   "cell_type": "code",
   "execution_count": 4,
   "metadata": {},
   "outputs": [
    {
     "ename": "ModuleNotFoundError",
     "evalue": "No module named 'numpy'",
     "output_type": "error",
     "traceback": [
      "\u001b[0;31m---------------------------------------------------------------------------\u001b[0m",
      "\u001b[0;31mModuleNotFoundError\u001b[0m                       Traceback (most recent call last)",
      "\u001b[0;32m<ipython-input-4-161b778ef1b2>\u001b[0m in \u001b[0;36m<module>\u001b[0;34m\u001b[0m\n\u001b[1;32m      2\u001b[0m \u001b[0;32mimport\u001b[0m \u001b[0mos\u001b[0m\u001b[0;34m\u001b[0m\u001b[0m\n\u001b[1;32m      3\u001b[0m \u001b[0;32mimport\u001b[0m \u001b[0mos\u001b[0m\u001b[0;34m\u001b[0m\u001b[0m\n\u001b[0;32m----> 4\u001b[0;31m \u001b[0;32mimport\u001b[0m \u001b[0mnumpy\u001b[0m \u001b[0;32mas\u001b[0m \u001b[0mnp\u001b[0m\u001b[0;34m\u001b[0m\u001b[0m\n\u001b[0m\u001b[1;32m      5\u001b[0m \u001b[0;32mimport\u001b[0m \u001b[0mcv2\u001b[0m\u001b[0;34m\u001b[0m\u001b[0m\n\u001b[1;32m      6\u001b[0m \u001b[0;32mimport\u001b[0m \u001b[0mmrcnn\u001b[0m\u001b[0;34m.\u001b[0m\u001b[0mconfig\u001b[0m\u001b[0;34m\u001b[0m\u001b[0m\n",
      "\u001b[0;31mModuleNotFoundError\u001b[0m: No module named 'numpy'"
     ]
    }
   ],
   "source": [
    "import sys\n",
    "import os\n",
    "import os\n",
    "import numpy as np\n",
    "import cv2\n",
    "import mrcnn.config\n",
    "import mrcnn.utils\n",
    "import matplotlib.pyplot as plt\n",
    "from mrcnn.model import MaskRCNN\n",
    "from pathlib import Path\n",
    "from IPython.display import Image"
   ]
  },
  {
   "cell_type": "code",
   "execution_count": null,
   "metadata": {
    "colab": {},
    "colab_type": "code",
    "id": "UXMslNRuvqVS"
   },
   "outputs": [],
   "source": [
    "# Set up Colab Environment\n",
    "\n",
    "IN_COLAB = 'google.colab' in sys.modules or not 'mrcnn' in sys.modules\n",
    "HAS_DATASET = os.path.exists('mask_rcnn_coco.h5')\n",
    "SAMPLE_IMAGE = '' # Leave this blank if you do not want to download an image\n",
    "\n",
    "#SAMPLE_IMAGE = 'https://i.imgur.com/AdPz4lX.jpg' # Leave this blank if you do not want to download an image\n",
    "SAMPLE_IMAGE_NAME = 'car.jpg' # Name of input file to be saved \n",
    "print()\n",
    "\n",
    "if(IN_COLAB):\n",
    "  !pip install mrcnn\n",
    "\n",
    "if(not HAS_DATASET):\n",
    "  !wget https://github.com/matterport/Mask_RCNN/releases/download/v2.0/mask_rcnn_coco.h5 \n",
    "    \n",
    "# if(len(SAMPLE_IMAGE)):\n",
    "#  !wget -O $SAMPLE_IMAGE_NAME $SAMPLE_IMAGE"
   ]
  },
  {
   "cell_type": "code",
   "execution_count": null,
   "metadata": {
    "colab": {},
    "colab_type": "code",
    "id": "1oCPEAakvEQv"
   },
   "outputs": [],
   "source": [
    "\n",
    "# Configuration that will be used by the Mask-RCNN library\n",
    "class MaskRCNNConfig(mrcnn.config.Config):\n",
    "    NAME = \"coco_pretrained_model_config\"\n",
    "    IMAGES_PER_GPU = 1\n",
    "    GPU_COUNT = 1\n",
    "    NUM_CLASSES = 1 + 80  # COCO dataset has 80 classes + one background class\n",
    "    DETECTION_MIN_CONFIDENCE = 0.6\n",
    "\n",
    "\n",
    "# Filter a list of Mask R-CNN detection results to get only the detected cars / trucks\n",
    "def get_car_boxes(boxes, class_ids):\n",
    "    car_boxes = []\n",
    "\n",
    "    for i, box in enumerate(boxes):\n",
    "        # If the detected object isn't a car / truck / bus, skip it\n",
    "        if class_ids[i] in [3, 8, 6]:\n",
    "            car_boxes.append(box)\n",
    "\n",
    "    return np.array(car_boxes)\n",
    "\n",
    "\n",
    "# Root directory of the project\n",
    "ROOT_DIR = Path(\".\")\n",
    "\n",
    "# Directory to save logs and trained model\n",
    "MODEL_DIR = os.path.join(ROOT_DIR, \"logs\")\n",
    "\n",
    "# Local path to trained weights file\n",
    "COCO_MODEL_PATH = os.path.join(ROOT_DIR, \"mask_rcnn_coco.h5\")\n",
    "\n",
    "# Download COCO trained weights from Releases if needed\n",
    "if not os.path.exists(COCO_MODEL_PATH):\n",
    "    mrcnn.utils.download_trained_weights(COCO_MODEL_PATH)\n",
    "\n",
    "# Directory of images to run detection on\n",
    "IMAGE_DIR = os.path.join(ROOT_DIR, SAMPLE_IMAGE)\n",
    "\n",
    "\n",
    "# Create a Mask-RCNN model in inference mode\n",
    "model = MaskRCNN(mode=\"inference\", model_dir=MODEL_DIR, config=MaskRCNNConfig())\n",
    "\n",
    "# Load pre-trained model\n",
    "model.load_weights(\"mask_rcnn_coco.h5\", by_name=True)\n",
    "\n",
    "parked_car_boxes = None\n",
    "\n"
   ]
  },
  {
   "cell_type": "code",
   "execution_count": null,
   "metadata": {},
   "outputs": [],
   "source": [
    "IMAGE_DIR\n"
   ]
  },
  {
   "cell_type": "markdown",
   "metadata": {
    "colab_type": "text",
    "id": "0IJhAJ0NvEQ8"
   },
   "source": [
    "# FOR IMAGE"
   ]
  },
  {
   "cell_type": "code",
   "execution_count": null,
   "metadata": {
    "colab": {},
    "colab_type": "code",
    "id": "C5-F-SGuvEQ9"
   },
   "outputs": [],
   "source": [
    "rgb= cv2.imread(IMAGE_DIR)\n",
    "x = 0\n",
    "y = 1000\n",
    "h = 3000\n",
    "w = 3000\n",
    "crop = rgb[y:y+h, x:x+w]\n",
    "    \n",
    "\n",
    "# Run the image through the Mask R-CNN model to get results.\n",
    "results = model.detect([crop], verbose=0)\n",
    "\n",
    "# Mask R-CNN assumes we are running detection on multiple images.\n",
    "# We only passed in one image to detect, so only grab the first result.\n",
    "r = results[0]\n",
    "\n",
    "# The r variable will now have the results of detection:\n",
    "# - r['rois'] are the bounding box of each detected object\n",
    "# - r['class_ids'] are the class id (type) of each detected object\n",
    "# - r['scores'] are the confidence scores for each detection\n",
    "# - r['masks'] are the object masks for each detected object (which gives you the object outline)\n",
    "\n",
    "# Filter the results to only grab the car / truck bounding boxes\n",
    "car_boxes = get_car_boxes(r['rois'], r['class_ids'])\n",
    "\n",
    "print(\"Cars found in photo:\")\n",
    "\n",
    "# Draw each box on the frame\n",
    "for box in car_boxes:\n",
    "    print(\"Car: \", box)\n",
    "\n",
    "    y1, x1, y2, x2 = box\n",
    "\n",
    "        # Draw the box\n",
    "    cv2.rectangle(crop, (x1, y1), (x2, y2), (0, 255, 0), 1)\n",
    "\n",
    "    \n",
    "cv2.imwrite('car_output.jpg', crop)\n",
    "cv2.destroyAllWindows()\n",
    "Image('car_output.jpg')\n"
   ]
  },
  {
   "cell_type": "markdown",
   "metadata": {},
   "source": [
    "# Run the below cell only to remove the pre-trained model"
   ]
  },
  {
   "cell_type": "code",
   "execution_count": null,
   "metadata": {
    "colab": {},
    "colab_type": "code",
    "id": "LHHdREORz0Ze"
   },
   "outputs": [],
   "source": [
    "os.remove('mask_rcnn_coco.h5')\n",
    "print(\"Pretrained Model Removed from the folder, Download to again to run the model\")"
   ]
  },
  {
   "cell_type": "code",
   "execution_count": null,
   "metadata": {
    "colab": {},
    "colab_type": "code",
    "id": "cSANj7RVy0YY"
   },
   "outputs": [],
   "source": []
  }
 ],
 "metadata": {
  "colab": {
   "name": "COCO_trail.ipynb",
   "provenance": []
  },
  "kernelspec": {
   "display_name": "Python 3",
   "language": "python",
   "name": "python3"
  },
  "language_info": {
   "codemirror_mode": {
    "name": "ipython",
    "version": 3
   },
   "file_extension": ".py",
   "mimetype": "text/x-python",
   "name": "python",
   "nbconvert_exporter": "python",
   "pygments_lexer": "ipython3",
   "version": "3.6.2"
  }
 },
 "nbformat": 4,
 "nbformat_minor": 1
}
